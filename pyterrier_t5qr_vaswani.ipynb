{
 "cells": [
  {
   "cell_type": "code",
   "execution_count": 1,
   "id": "20c2cd01",
   "metadata": {},
   "outputs": [
    {
     "name": "stderr",
     "output_type": "stream",
     "text": [
      "PyTerrier 0.8.1 has loaded Terrier 5.6 (built by craigmacdonald on 2021-09-17 13:27)\n",
      "\n",
      "No etc/terrier.properties, using terrier.default.properties for bootstrap configuration.\n"
     ]
    }
   ],
   "source": [
    "import os\n",
    "os.environ[\"JAVA_HOME\"] = \"/usr/lib/jvm/java-11-openjdk-amd64/\"\n",
    "import pyterrier as pt\n",
    "pt.init()"
   ]
  },
  {
   "cell_type": "code",
   "execution_count": 2,
   "id": "4b6c3e75",
   "metadata": {},
   "outputs": [],
   "source": [
    "from pyterrier_t5qr import T5QR\n",
    "t5qr = T5QR()"
   ]
  },
  {
   "cell_type": "code",
   "execution_count": 3,
   "id": "4b53a5bd",
   "metadata": {},
   "outputs": [
    {
     "name": "stderr",
     "output_type": "stream",
     "text": [
      "vaswani documents: 100%|██████████| 11429/11429 [00:02<00:00, 4864.06it/s]\n"
     ]
    }
   ],
   "source": [
    "dataset = pt.get_dataset(\"irds:vaswani\")\n",
    "index_loc = \"./index_path\"\n",
    "indexer = pt.IterDictIndexer(index_loc, overwrite=True)\n",
    "indexref = indexer.index(dataset.get_corpus_iter())"
   ]
  },
  {
   "cell_type": "code",
   "execution_count": 4,
   "id": "9faf91b9",
   "metadata": {},
   "outputs": [],
   "source": [
    "bm25 = pt.BatchRetrieve(indexref, wmodel=\"BM25\") % 100\n",
    "t5qr_pipeline = bm25 >> pt.text.get_text(dataset, \"text\") >> t5qr"
   ]
  },
  {
   "cell_type": "code",
   "execution_count": 5,
   "id": "94ba20bf",
   "metadata": {},
   "outputs": [
    {
     "name": "stderr",
     "output_type": "stream",
     "text": [
      "monoQA: 100%|██████████| 125/125 [00:59<00:00,  2.10batches/s]\n"
     ]
    }
   ],
   "source": [
    "res=t5qr_pipeline.transform(dataset.get_topics().head())"
   ]
  },
  {
   "cell_type": "code",
   "execution_count": 6,
   "id": "6a767cce",
   "metadata": {},
   "outputs": [
    {
     "data": {
      "text/plain": [
       "array(['measurement of dielectric constant of liquids by the use of microwave techniques',\n",
       "       'measurement of dielectric constant of liquids by the use of microwave techniques',\n",
       "       'measurement of dielectric constant of liquids by the use of microwave techniques',\n",
       "       'measurement of dielectric constant of liquids by the use of microwave techniques',\n",
       "       'measurement of dielectric constant of liquids by the use of microwave techniques',\n",
       "       'measurement of dielectric constant of liquids by the use of microwave techniques',\n",
       "       'measurement of dielectric constant of liquids by the use of microwave techniques',\n",
       "       'measurement of dielectric constant of liquids by the use of microwave techniques',\n",
       "       'measurement of dielectric constant of liquids by the use of microwave techniques',\n",
       "       'measurement of dielectric constant of liquids by the use of microwave techniques measurement of dielectric constant of liquids by the use of microwave techniques'],\n",
       "      dtype=object)"
      ]
     },
     "execution_count": 6,
     "metadata": {},
     "output_type": "execute_result"
    }
   ],
   "source": [
    "res['qr'].values[0:10]"
   ]
  },
  {
   "cell_type": "code",
   "execution_count": null,
   "id": "eeca0f89",
   "metadata": {},
   "outputs": [],
   "source": []
  }
 ],
 "metadata": {
  "kernelspec": {
   "display_name": "Python 3 (ipykernel)",
   "language": "python",
   "name": "python3"
  },
  "language_info": {
   "codemirror_mode": {
    "name": "ipython",
    "version": 3
   },
   "file_extension": ".py",
   "mimetype": "text/x-python",
   "name": "python",
   "nbconvert_exporter": "python",
   "pygments_lexer": "ipython3",
   "version": "3.7.11"
  }
 },
 "nbformat": 4,
 "nbformat_minor": 5
}
